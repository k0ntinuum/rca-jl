{
 "cells": [
  {
   "cell_type": "code",
   "execution_count": 73,
   "id": "380f3a03",
   "metadata": {},
   "outputs": [
    {
     "data": {
      "text/plain": [
       "print_vec (generic function with 1 method)"
      ]
     },
     "execution_count": 73,
     "metadata": {},
     "output_type": "execute_result"
    }
   ],
   "source": [
    "\n",
    "function str(v)\n",
    "    #out_alph = \"abcdefghijklmnopqrstuvwxyz\" * string('\\u2586')    \n",
    "    #out_alph = \"ABCDEFGHIJKLMNOPQRSTUVWXYZ\" * string('\\u25A0')\n",
    "    out_alph = \"O|\"\n",
    "    join(map(i -> out_alph[i+1:i+1],v ))\n",
    "end\n",
    "\n",
    "rgb(r,g,b) =  \"\\e[38;2;$(r);$(g);$(b)m\"\n",
    "red() = rgb(255,0,0)\n",
    "yellow() = rgb(255,255,0)\n",
    "white() = rgb(255,255,255)\n",
    "gray(h) = rgb(h,h,h)\n",
    "\n",
    "function key(n)\n",
    "    rand(0:1,2^n)\n",
    "end\n",
    "    \n",
    "function print_key(f)\n",
    "    print(\"f = \\n\")\n",
    "    print(str(f),\"\\n\")\n",
    "end\n",
    "\n",
    "function print_vec(v)\n",
    "    print(str(v),\"\\n\")\n",
    "end"
   ]
  },
  {
   "cell_type": "code",
   "execution_count": 45,
   "id": "09fc38c2",
   "metadata": {},
   "outputs": [
    {
     "data": {
      "text/plain": [
       "val (generic function with 1 method)"
      ]
     },
     "execution_count": 45,
     "metadata": {},
     "output_type": "execute_result"
    }
   ],
   "source": [
    "function val(v,f,b)\n",
    "    j = 0\n",
    "    for i in length(v):-1:1 j += v[i]*b^(i-1) end\n",
    "    f[j+1]\n",
    "end\n",
    "        \n",
    "    "
   ]
  },
  {
   "cell_type": "code",
   "execution_count": 19,
   "id": "9674aa0b",
   "metadata": {},
   "outputs": [
    {
     "data": {
      "text/plain": [
       "32-element Vector{Int64}:\n",
       " 1\n",
       " 1\n",
       " 0\n",
       " 0\n",
       " 0\n",
       " 1\n",
       " 0\n",
       " 1\n",
       " 1\n",
       " 1\n",
       " 1\n",
       " 0\n",
       " 1\n",
       " ⋮\n",
       " 1\n",
       " 1\n",
       " 1\n",
       " 1\n",
       " 0\n",
       " 0\n",
       " 0\n",
       " 1\n",
       " 0\n",
       " 1\n",
       " 1\n",
       " 1"
      ]
     },
     "execution_count": 19,
     "metadata": {},
     "output_type": "execute_result"
    }
   ],
   "source": [
    "f = key(5)\n"
   ]
  },
  {
   "cell_type": "code",
   "execution_count": 27,
   "id": "36967bdc",
   "metadata": {},
   "outputs": [
    {
     "ename": "LoadError",
     "evalue": "BoundsError: attempt to access 32-element Vector{Int64} at index [822]",
     "output_type": "error",
     "traceback": [
      "BoundsError: attempt to access 32-element Vector{Int64} at index [822]",
      "",
      "Stacktrace:",
      " [1] getindex",
      "   @ ./essentials.jl:13 [inlined]",
      " [2] val(v::Vector{Int64}, f::Vector{Int64}, b::Int64)",
      "   @ Main ./In[23]:4",
      " [3] top-level scope",
      "   @ In[27]:2"
     ]
    }
   ],
   "source": [
    "p = rand(0:1,10)\n",
    "v = val(p,f,2)"
   ]
  },
  {
   "cell_type": "code",
   "execution_count": 29,
   "id": "882db07a",
   "metadata": {},
   "outputs": [
    {
     "data": {
      "text/plain": [
       "5-element Vector{Int64}:\n",
       " 1\n",
       " 0\n",
       " 0\n",
       " 1\n",
       " 1"
      ]
     },
     "execution_count": 29,
     "metadata": {},
     "output_type": "execute_result"
    }
   ],
   "source": [
    "p[end-4:end]"
   ]
  },
  {
   "cell_type": "code",
   "execution_count": 63,
   "id": "77ee5d9b",
   "metadata": {},
   "outputs": [
    {
     "data": {
      "text/plain": [
       "decode (generic function with 1 method)"
      ]
     },
     "execution_count": 63,
     "metadata": {},
     "output_type": "execute_result"
    }
   ],
   "source": [
    "function encode(p,f)\n",
    "    b = 2\n",
    "    s = deepcopy(f[1:5])\n",
    "    c = zeros(Int64,length(p))\n",
    "    for i in eachindex(p)  \n",
    "        c[i] = mod(val(s[end-4:end],f,b)+p[i],b)\n",
    "        push!(s,p[i])\n",
    "    f = circshift(f, c[i] )\n",
    "    end\n",
    "    print_vec(s)\n",
    "    print_vec(p)\n",
    "    print_vec(c)\n",
    "    c\n",
    "end\n",
    "function decode(c,f)\n",
    "    b = 2\n",
    "    s = deepcopy(f[1:5])\n",
    "    p = zeros(Int64,length(c))\n",
    "    for i in eachindex(p)  \n",
    "        p[i] = mod(c[i] - val(s[end-4:end],f,b),b)\n",
    "        push!(s,p[i])\n",
    "        f = circshift(f, c[i] )\n",
    "    end\n",
    "    p\n",
    "end\n",
    "        "
   ]
  },
  {
   "cell_type": "code",
   "execution_count": 74,
   "id": "c2f4a8c2",
   "metadata": {},
   "outputs": [
    {
     "name": "stdout",
     "output_type": "stream",
     "text": [
      "||OOOO|||O||OOO\n",
      "O|||O||OOO\n",
      "OOO||OOOOO\n",
      "f = \n",
      "||OOO|O||||O|O|O||||||||OOO|O|||\n",
      "O|||O||OOO\n",
      "OOO||OOOOO\n",
      "O|||O||OOO\n"
     ]
    }
   ],
   "source": [
    "p = rand(0:1,10)\n",
    "c = encode(p,f)\n",
    "d = decode(c,f)\n",
    "print_key(f)\n",
    "print_vec(p)\n",
    "print_vec(c)\n",
    "print_vec(d)"
   ]
  },
  {
   "cell_type": "code",
   "execution_count": 66,
   "id": "4677f8a7",
   "metadata": {},
   "outputs": [
    {
     "data": {
      "text/plain": [
       "\"||OOO|O||||O|O|O||||||||OOO|O|||\""
      ]
     },
     "execution_count": 66,
     "metadata": {},
     "output_type": "execute_result"
    }
   ],
   "source": [
    "str(f)"
   ]
  },
  {
   "cell_type": "code",
   "execution_count": 72,
   "id": "72a99fdf",
   "metadata": {},
   "outputs": [
    {
     "name": "stdout",
     "output_type": "stream",
     "text": [
      "\u001b[38;2;255;255;255mf = \n",
      "||OOO|O||||O|O|O||||||||OOO|O|||\n"
     ]
    }
   ],
   "source": [
    "print_key(f)"
   ]
  },
  {
   "cell_type": "code",
   "execution_count": null,
   "id": "6afed7fb",
   "metadata": {},
   "outputs": [],
   "source": []
  }
 ],
 "metadata": {
  "kernelspec": {
   "display_name": "Julia 1.9.3",
   "language": "julia",
   "name": "julia-1.9"
  },
  "language_info": {
   "file_extension": ".jl",
   "mimetype": "application/julia",
   "name": "julia",
   "version": "1.9.3"
  }
 },
 "nbformat": 4,
 "nbformat_minor": 5
}
